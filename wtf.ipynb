{
    "cells": [
        {
            "cell_type": "markdown",
            "metadata": {},
            "source": "Data Frame"
        },
        {
            "cell_type": "code",
            "execution_count": 1,
            "metadata": {},
            "outputs": [
                {
                    "data": {
                        "text/html": "<div>\n<style scoped>\n    .dataframe tbody tr th:only-of-type {\n        vertical-align: middle;\n    }\n\n    .dataframe tbody tr th {\n        vertical-align: top;\n    }\n\n    .dataframe thead th {\n        text-align: right;\n    }\n</style>\n<table border=\"1\" class=\"dataframe\">\n  <thead>\n    <tr style=\"text-align: right;\">\n      <th></th>\n      <th>order_id</th>\n      <th>user_id</th>\n      <th>price</th>\n      <th>platform</th>\n      <th>payment_provider</th>\n      <th>create_time</th>\n      <th>pay_time</th>\n    </tr>\n  </thead>\n  <tbody>\n    <tr>\n      <th>0</th>\n      <td>1</td>\n      <td>105654733</td>\n      <td>24800</td>\n      <td>ios</td>\n      <td>applepay</td>\n      <td>2020/4/2 16:50</td>\n      <td>2020/4/2 16:46</td>\n    </tr>\n    <tr>\n      <th>1</th>\n      <td>2</td>\n      <td>47292399</td>\n      <td>24800</td>\n      <td>android</td>\n      <td>wxpay</td>\n      <td>2020/4/5 16:17</td>\n      <td>2020/4/5 16:18</td>\n    </tr>\n    <tr>\n      <th>2</th>\n      <td>3</td>\n      <td>97811248</td>\n      <td>6800</td>\n      <td>android</td>\n      <td>wxpay</td>\n      <td>2019/12/5 16:42</td>\n      <td>2019/12/5 16:42</td>\n    </tr>\n    <tr>\n      <th>3</th>\n      <td>4</td>\n      <td>106005331</td>\n      <td>6800</td>\n      <td>ios</td>\n      <td>wxpay</td>\n      <td>2019/11/22 10:06</td>\n      <td>2019/11/22 10:06</td>\n    </tr>\n    <tr>\n      <th>4</th>\n      <td>5</td>\n      <td>106005331</td>\n      <td>6800</td>\n      <td>ios</td>\n      <td>wxpay</td>\n      <td>2020/5/24 6:34</td>\n      <td>2020/5/24 6:34</td>\n    </tr>\n  </tbody>\n</table>\n</div>",
                        "text/plain": "   order_id    user_id  price platform payment_provider       create_time  \\\n0         1  105654733  24800      ios         applepay    2020/4/2 16:50   \n1         2   47292399  24800  android            wxpay    2020/4/5 16:17   \n2         3   97811248   6800  android            wxpay   2019/12/5 16:42   \n3         4  106005331   6800      ios            wxpay  2019/11/22 10:06   \n4         5  106005331   6800      ios            wxpay    2020/5/24 6:34   \n\n           pay_time  \n0    2020/4/2 16:46  \n1    2020/4/5 16:18  \n2   2019/12/5 16:42  \n3  2019/11/22 10:06  \n4    2020/5/24 6:34  "
                    },
                    "execution_count": 1,
                    "metadata": {},
                    "output_type": "execute_result"
                }
            ],
            "source": "# The code was removed by Watson Studio for sharing."
        },
        {
            "cell_type": "code",
            "execution_count": null,
            "metadata": {},
            "outputs": [],
            "source": ""
        }
    ],
    "metadata": {
        "kernelspec": {
            "display_name": "Python 3.9",
            "language": "python",
            "name": "python3"
        },
        "language_info": {
            "codemirror_mode": {
                "name": "ipython",
                "version": 3
            },
            "file_extension": ".py",
            "mimetype": "text/x-python",
            "name": "python",
            "nbconvert_exporter": "python",
            "pygments_lexer": "ipython3",
            "version": "3.9.13"
        }
    },
    "nbformat": 4,
    "nbformat_minor": 1
}